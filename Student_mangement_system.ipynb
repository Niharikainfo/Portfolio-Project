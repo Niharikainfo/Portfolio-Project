import os

s=[]

class OptionNotAvailable(Exception):
    def display(self):
        print("Error: Option Not Available!")
        print("Please enter correct option number from list!")

class RecordAlreadyExists(Exception):
    def display(self):
        print("Error: Record for this PRN already exists!")
        print("Enter other PRN!")
        
class college():
    
    def __init__(self):
        self.name=""
        self.prn=0
        self.marks=0
        self.attendance=""
    def read(self):
        os.system('cls')
        if len(s)==0:
            print("\t\t\t\t\tNo records exist!!!")
        else:
            print("Here is the list:")
            for i in s:
                print("Name- ", i.name)
                print("PRN- ", i.prn)
                print("Marks- ", i.marks)
                print("Attendance Percentage- ", i.attendance,"%")
        o=input("PRESS ENTER TO CONTINUE")

class teacher(college):
    
    def __init__(self):
        os.system('cls')
        self.option()
    
    def option(self):
        os.system('cls')
        print("\t\t\t\t\t Welcome ")
        print("Enter 1: For entering new record")
        print("Enter 2: For updating existing records")
        print("Enter 3: To see all the records")
        try:
            z=int(input())
            if z== 1 or z==2 or z==3:
                pass
            else:
                raise OptionNotAvailable
        except OptionNotAvailable as e:
            e.display()
            try:
                z=int(input())
                if z== 1 or z==2 or z==3:
                    pass
                else:
                    raise OptionNotAvailable
            except OptionNotAvailable as e:
                e.display()
                z=int(input())
            except ValueError:
                print("Value Error!")
                print("Enter correct option from list!")
                z=int(input())
        except ValueError:
            print("Value Error!")
            print("Enter correct option from list!")
            try:
                z=int(input())
                if z== 1 or z==2 or z==3:
                    pass
                else:
                    raise OptionNotAvailable
            except OptionNotAvailable as e:
                e.display()
                z=int(input())
            except ValueError:
                print("Value Error!")
                print("Enter correct option from list!")
                z=int(input())
        if z==1:
            self.enterprn()
            self.entername()
            self.entermarks()
            self.enterattendance()
        elif z==2:
            self.update()
        elif z==3:
            self.read()
    
    def enterprn(self):
        try:    
            try:
                self.prn=int(input("Enter PRN of student: "))
            except ValueError:
                print("Value Error!")
                print("PRN must be an integer!")
                try:
                    self.prn=int(input("Enter PRN of student: "))
                except ValueError:
                    print("Value Error!")
                    print("PRN must be an integer!")
                    self.prn=int(input("Enter PRN of student: "))
            for i in s:
                if i.prn==self.prn:
                    raise RecordAlreadyExists
        except RecordAlreadyExists as e:
            e.display()
            try:
                self.prn=int(input("Enter PRN of student: "))
            except ValueError:
                print("Value Error!")
                print("PRN must be an integer!")
                self.prn=int(input("Enter PRN of student: "))
            for i in s:
                if i.prn==self.prn:
                    raise RecordAlreadyExists
        except RecordAlreadyExists as e:
            e.display()
            self.prn=int(input("Enter PRN of student: "))
    
    def entername(self):
        os.system('cls')
        self.name=str(input("Enter name of student: "))
        
    def entermarks(self):
        try:
            self.marks=float(input("Enter internal marks of student: "))
        except ValueError:
            print("Value Error!")
            print("Marks must be in numbers!")
            try:
                self.marks=float(input("Enter internal marks of student: "))
            except ValueError:
                print("Value Error!")
                print("Marks must be in numbers!")
                self.marks=float(input("Enter internal marks of student: "))
        
    def enterattendance(self):
        try:
            self.attendance=float(input("Enter attendance percentage of student: "))
        except ValueError:
            print("Value Error!")
            print("Attendance should be in numbers!")
            try:
                self.attendance=float(input("Enter attendance percentage of student: "))
            except ValueError:
                print("Value Error!")
                print("Attendance should be in numbers!")
                self.attendance=float(input("Enter attendance percentage of student: "))
        s.append(self)
        print("\t\t\t\t\tRECORD ENTERED SUCCESSFULLY!!!")
    
    def update(self):
        os.system('cls')
        count=0
        if len(s) == 0:
            print("\t\t\t\t\tNO RECORDS EXIST FOR UPDATION")
        else:
            try:
                p=int(input("Enter PRN of student whose details are to be updated: "))
            except ValueError:
                print("Value Error!")
                print("PRN must be an integer!")
                try:
                    p=int(input("Enter PRN of student whose details are to be updated: "))
                except ValueError:
                    print("Value Error!")
                    print("PRN must be an integer!")
                    p=int(input("Enter PRN of student whose details are to be updated: "))
            for i in s:
                if i.prn==p:
                    print("Enter new details: ")
                    m=int(input("Enter updated internal marks"))
                    c=float(input("Enter updated attendance percentage: "))
                    i.marks=m
                    i.attendance=c
                    print("\t\t\t\t\tRECORD UPDATED SUCCESSFULLY")
                    count=1
            if count==0:
                print("Details for PRN- ",p," haven't been entered yet!")
        
    
class student(college):
    
    def __init__(self,p):
        os.system('cls')
        self.p=p
        self.read()
    
    def read(self):
        os.system('cls')
        if len(s)==0:
            print("\t\t\t\t\tNo records exist!!!")
        else:
            count=0
            for i in s:
                if(i.prn==self.p):
                    print("Here are your details: ")
                    print("Name- ", i.name)
                    print("PRN- ", i.prn)
                    print("Marks- ", i.marks)
                    print("Attendance Percentage- ", i.attendance,"%")
                    count=1
            if count==0:
                print("Your details haven't been updated yet") 
        o=input("PRESS ENTER TO CONTINUE")
        
def pcheck():
    os.system('cls')
    print("\t\t\t\t\tTEACHER LOGIN")
    f = open(r"C:\Users\Lenovo\Desktop\StudentManagementSystem.txt","r")
    b=f.read()
    f.close()
    p=(input("Enter Teacher LogIn Key: "))
    if p==b:
        newr()
    else:
        print("WRONG PASSWORD!!!")

def newr():
    obj=teacher()
            
def control_flow():
    print("\t\t\t\t\tWelcome to Student Management System")
    print("Enter 1 for Teacher login")
    print("Enter 2 for Student login")
    print("Enter 3 to Exit program")
    try:
        x=int(input())
        if x== 1 or x==2 or x==3:
            pass
        else:
            raise OptionNotAvailable
    except OptionNotAvailable as e:
        e.display()
        try:
            x=int(input())
            if x== 1 or x==2 or x==3:
                pass
            else:
                raise OptionNotAvailable
        except OptionNotAvailable as e:
            e.display()
            x=int(input())
        except ValueError:
            print("Value Error!")
            print("Enter correct option from list!")
            x=int(input())
    except ValueError:
        print("Value Error!")
        print("Enter correct option from list!")
        try:
            x=int(input())
            if x== 1 or x==2 or x==3:
                pass
            else:
                raise OptionNotAvailable
        except OptionNotAvailable as e:
            e.display()
            x=int(input())
        except ValueError:
            print("Value Error!")
            print("Enter correct option from list!")
            x=int(input())

    if x==1:
        pcheck()
        print("Press y to continue and n to logout")
        try:
            op=str(input())
            if op=="y" or op=="n":
                pass
            else:
                raise OptionNotAvailable
        except OptionNotAvailable as e:
            e.display()
            print("Press y to continue and n to logout")
            try:
                op=str(input())
                if op=="y" or op=="n":
                    pass
                else:
                    raise OptionNotAvailable
            except OptionNotAvailable as e:
                e.display()
                print("Press y to continue and n to logout")
                op=str(input())
            
        while(op=='y'):
            os.system('cls')
            newr()
            print("Press y to continue and n to logout")
            try:
                op=str(input())
                if op=="y" or op=="n":
                    pass
                else:
                    raise OptionNotAvailable
            except OptionNotAvailable as e:
                e.display()
                print("Press y to continue and n to logout")
                try:
                    op=str(input())
                    if op=="y" or op=="n":
                        pass
                    else:
                        raise OptionNotAvailable
                except OptionNotAvailable as e:
                    e.display()
                    print("Press y to continue and n to logout")
                    op=str(input())

    elif x==2:
        os.system('cls')
        print("\t\t\t\t\tSTUDENT LOGIN ")
        try:
            p=int(input("Enter your PRN: "))
        except ValueError:
            print("Value Error!")
            print("PRN must be an inteeger!")
            try:
                p=int(input("Enter your PRN: "))
            except ValueError:
                print("Value Error!")
                print("PRN must be an inteeger!")
                p=int(input("Enter your PRN: "))
            
        obj=student(p)
    
    elif x==3:
        exit()
    
    if 1:
        control_flow()
        
control_flow()
